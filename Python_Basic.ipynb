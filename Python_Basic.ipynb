{
  "nbformat": 4,
  "nbformat_minor": 0,
  "metadata": {
    "colab": {
      "name": "Python_Basic.ipynb",
      "provenance": [],
      "collapsed_sections": [],
      "authorship_tag": "ABX9TyOoJmICAaFukyL0g8MqQ5Sb"
    },
    "kernelspec": {
      "name": "python3",
      "display_name": "Python 3"
    },
    "language_info": {
      "name": "python"
    }
  },
  "cells": [
    {
      "cell_type": "code",
      "metadata": {
        "id": "HIBZn9VVd_qN",
        "colab": {
          "base_uri": "https://localhost:8080/"
        },
        "outputId": "13466268-cd26-498c-c139-b8dc1a0944a0"
      },
      "source": [
        "!python --version"
      ],
      "execution_count": null,
      "outputs": [
        {
          "output_type": "stream",
          "text": [
            "Python 3.7.10\n"
          ],
          "name": "stdout"
        }
      ]
    },
    {
      "cell_type": "markdown",
      "metadata": {
        "id": "iFKO1CFLh7H3"
      },
      "source": [
        "**1.파이썬 자료형 **"
      ]
    },
    {
      "cell_type": "code",
      "metadata": {
        "colab": {
          "base_uri": "https://localhost:8080/"
        },
        "id": "o-ELcFiJiknm",
        "outputId": "b5ff2a8f-0685-4a09-8860-2a7653758b3e"
      },
      "source": [
        "##정수형\n",
        "a = 123\n",
        "a = -123\n",
        "a = 0\n",
        "\n",
        "##실수형\n",
        "a = 1.2\n",
        "a = -3.45\n",
        "\n",
        "##8진수\n",
        "a = 0o177\n",
        "\n",
        "##16진수\n",
        "a = 0x8ff\n",
        "\n",
        "##사칙연선 +,-,*,/,**(제곱), %(나먼지), //(나머지 몫)\n",
        "\n",
        "##문자열 표현\n",
        "\"Hello World\"\n",
        "'Hello World'\n",
        "\"\"\"Hello World\"\"\"\n",
        "'''Hello World'''\n",
        "\"Hello' World\"\n",
        "'\"Hello World\"'\n",
        "'Hello\\' World'\n",
        "\"Hello\\\" World\"\n",
        "\n",
        "##이스케이프 코드 \\n \\t \\\\ \\' \\\" \\r \\f \\a \\b \\000 등등\n",
        "\n",
        "##문자열 연산 +, *, len(문자열)\n",
        "\n",
        "##문자열 인덱싱, 슬라이싱, immutable 자료형(문자열 요소값 변경 불가능)\n",
        "a = \"You Never Know\"\n",
        "a[0]\n",
        "a[-1]\n",
        "a[0:3]\n",
        "a[:9]\n",
        "a[0:-5]\n",
        "\n",
        "##Formatting %s(문자열), %c(char), %d(정수), %f(부동 소수)...\n",
        "##정렬 {0:>10}.format('hi) 오른쪽, <완쪽,^가운데, {0:^10} 공백채우기, 소수점 {0:10.4f}.format(값)\n",
        "b = 'hello world{}'.format('!')\n",
        "\n",
        "##문자열 함수 관련 \n",
        "##count(), find(), index(), join(), upper(), lower(), lstrip(), rstrip(), replace(),split()\n",
        "\n",
        "\n",
        "##리스트 \n",
        "list1 = [1,2,3,4,5]\n",
        "list2 = [1,2,3,4,['a','b','c']]\n",
        "print(list2[-1][0])\n",
        "\n",
        "##리스트 연산 []\n",
        "##+, *, len(), del 리스트[], append(), sort() , extend(), count()\n",
        "##reverse(), index(), insert(), remove(), pop() 리스트 맨 마지막 요소 돌려주고 그 요소 삭제\n",
        "\n",
        "##튜플 자료형 () 생성, 삭제, 수정으로 값을 바꿀 수 없다.\n",
        "tuple1 = (1,2,3,4,5)\n",
        "tuple2 = (1,2,3,4,('a','b','c'))\n",
        "\n",
        "##Dictionary {key:value}\n",
        "##Dictionary 관련 함수 \n",
        "##keys(), values(), items(), clear(), get(), in 'name' in 딕셔너리\n",
        "\n",
        "##집합 자료형 set 중복 허용 X , 순서 없음\n",
        "s1,s2 = set([1,2,3]),set(\"Hello\")\n",
        "list3 = list(s1)\n",
        "tuple3 = tuple(s1)\n",
        "\n",
        "##set 교집합 & or intersection, 합집합 | or union, 차집합 - or difference \n",
        "##add(), update(), remove()\n",
        "s1 = set([1,2,3,4,5,6])\n",
        "s2 = set([4,5,6,7,8,10])\n",
        "\n",
        "print('intersection = {}\\\n",
        "      \\nunion = {}\\\n",
        "      \\ndifference = {}'.format(s1&s2,s1|s2,s1-s2)\n",
        "      )\n",
        "##Boolean type() 내장함수로 타입 확인 가능\n",
        "## ==, >, <, 값이 비어 있으면 false,\n",
        "\n",
        "##id 객체 주소 값 확인\n",
        "c=[1,2,3]\n",
        "print(id(c))\n",
        "d=c\n",
        "print(id(d))\n",
        "c[2]=1\n",
        "print(d)\n",
        "\n",
        "##리스트 복사 : 사용, copy 모듈 사용 from copy import copy \n",
        "e=[1,2,3]\n",
        "f=e[:]\n"
      ],
      "execution_count": null,
      "outputs": [
        {
          "output_type": "stream",
          "text": [
            "a\n",
            "intersection = {4, 5, 6}      \n",
            "union = {1, 2, 3, 4, 5, 6, 7, 8, 10}      \n",
            "difference = {1, 2, 3}\n",
            "140455161227376\n",
            "140455161227376\n",
            "[1, 2, 1]\n"
          ],
          "name": "stdout"
        }
      ]
    },
    {
      "cell_type": "markdown",
      "metadata": {
        "id": "7znLYR0Xh_o1"
      },
      "source": [
        "**2.파이썬 제어문**"
      ]
    },
    {
      "cell_type": "code",
      "metadata": {
        "colab": {
          "base_uri": "https://localhost:8080/"
        },
        "id": "yueGt0S-9AA0",
        "outputId": "f1df8e17-99f6-4632-8c25-856b4164464a"
      },
      "source": [
        "##조건문 if, else, elif, pass\n",
        "val=1\n",
        "if val==1:\n",
        "  print(\"값 {}\".format(val))\n",
        "else:\n",
        "  print(\"false\")\n",
        "##and, or, not\n",
        "##x or y, x and y, not x, x in 리스트, x in 튜플, x in 문자열\n",
        "\n",
        "##반복분 (while, for)\n",
        "while val == 1:\n",
        "  val=val+1\n",
        "  print(val)\n",
        "  break\n",
        "\n",
        "for i in range(1,11):\n",
        "  print(i)\n",
        "\n",
        "##리스트 안에 내포하기 [표현식 for 항목1 in 반복 가능 객체1 if 조건1]\n",
        "numbers = [1,2,3,4]\n",
        "list_inner = [num*3 for num in numbers]\n",
        "print(list_inner)\n",
        "## [표현식 for 항목1 in 반복 가능 객체1 if 조건1\n",
        "##       for 항목2 in 반복 가능 객체2 if 조건2]\n",
        "\n"
      ],
      "execution_count": null,
      "outputs": [
        {
          "output_type": "stream",
          "text": [
            "값 1\n",
            "2\n",
            "1\n",
            "2\n",
            "3\n",
            "4\n",
            "5\n",
            "6\n",
            "7\n",
            "8\n",
            "9\n",
            "10\n",
            "[3, 6, 9, 12]\n"
          ],
          "name": "stdout"
        }
      ]
    },
    {
      "cell_type": "markdown",
      "metadata": {
        "id": "K28czqQxDBB_"
      },
      "source": [
        "**3.함수**\n",
        "\n",
        "def 함수명(매개변수):\n",
        "  수행할 문장"
      ]
    },
    {
      "cell_type": "code",
      "metadata": {
        "colab": {
          "base_uri": "https://localhost:8080/"
        },
        "id": "e94YaU-UDVkg",
        "outputId": "719aa588-f702-44b7-f506-82c257fcdad4"
      },
      "source": [
        "def add(a,b):\n",
        "  return a+b\n",
        "\n",
        "##여러 개의 입력 값 받는 함수\n",
        "def add_many(choice,*args):\n",
        "  result = 0\n",
        "  if choice == 'add':\n",
        "    for i in args:\n",
        "      result = result+i  \n",
        "  return result\n",
        "\n",
        "def print_kwargs(**kwargs):\n",
        "  print(kwargs)\n",
        "\n",
        "print_kwargs(name='foo',age='3')\n",
        "\n",
        "##함수 안에서 함수 밖의 변수를 변경하는 방법 \n",
        "##return 사용, global 사용\n",
        "\n",
        "##gg=1\n",
        "##def val_return(a):\n",
        "##  return gg\n",
        "##gg = val_return(a)\n",
        "##print(gg)\n",
        "\n",
        "gg=1\n",
        "def val_return(a):\n",
        "  global gg\n",
        "  gg = a+1\n",
        "val_return(gg)\n",
        "print(gg)\n",
        "\n",
        "##lambda\n",
        "lambda_add = lambda a,b: a+b\n",
        "result = lambda_add(3,4)\n",
        "print('lambda = {}'.format(result))\n",
        "\n",
        "##사용자 입력 input()\n",
        "aaa=input(\"입력\")\n",
        "##사용자 출력 print()\n",
        "for i in range(10):\n",
        "  print(i, end=' ')\n",
        "\n",
        "##파일생성 파일객체 = open(파일 이름, 파일열기 모드) r,w,a   파일객체.close()\n",
        "##파일 읽기  readline(),readlines(), read() \n",
        "##with 사용 , with 블록 벗어나는 순간 close()"
      ],
      "execution_count": null,
      "outputs": [
        {
          "output_type": "stream",
          "text": [
            "{'name': 'foo', 'age': '3'}\n",
            "2\n",
            "lambda = 7\n",
            "입력1\n",
            "0 1 2 3 4 5 6 7 8 9 "
          ],
          "name": "stdout"
        }
      ]
    },
    {
      "cell_type": "markdown",
      "metadata": {
        "id": "votP5_y9iDOm"
      },
      "source": [
        "**4.클래스, 모듈, 패키지, 예외처리**\n",
        "\n",
        "\n",
        "\n",
        "\n",
        "\n"
      ]
    },
    {
      "cell_type": "code",
      "metadata": {
        "id": "tZPyJy6MMbf2"
      },
      "source": [
        "##클래스\n",
        "class TestClass:\n",
        "  def __init__(self,first,second):\n",
        "    self.first=first\n",
        "    self.second=second\n",
        "  def setdata(self, first, second):\n",
        "    self.first=first\n",
        "    self.second=second\n",
        "  def add(self):\n",
        "    return self.first+self.second\n",
        "\n",
        "##test1 = TestClass()\n",
        "##test1.setdata(4,2)\n",
        "##print(test1.add())\n",
        "\n",
        "##생성자\n",
        "test2 = TestClass(4,2)\n",
        "print(test2.add())\n",
        "\n",
        "##상속 , class 클래스 이름(상속할 클래스 이름)\n",
        "##메서드 오버라이딩 가능\n",
        "class TestClassInheritance(TestClass):\n",
        "  def add(self):\n",
        "    if self.first==0:\n",
        "      return 0\n",
        "\n",
        "test3 = TestClassInheritance(0,4)\n",
        "print(test3.add())\n",
        "\n",
        "##클래스 변수\n",
        "class Family:\n",
        "  lastname = 'Shine'\n",
        "a = Family()\n",
        "b = Family()\n",
        "print(a)\n",
        "print(b)\n",
        "print(id(a.lastname))\n",
        "print(id(b.lastname))\n",
        "\n",
        "##모듈 import , from 모듈이름 import 모듈 함수\n",
        "##if__name__ == \"__main__\": 의미는 직접 파일 실행 시 true, 모듈로 사용했을 경우 false\n",
        "##다른 파일 불러오기 sys.path.append, PYTHONPATH \n",
        "\n",
        "##패키지\n",
        "##__init__.py 는 해당 디렉터리가 패키지의 일부임을 알려주는 역할.\n",
        "##__all__ = ['']\n",
        "\n",
        "##예외처리 try except\n",
        "##try, except\n",
        "##try, except 발생오류:\n",
        "##try, except 발생오류: as 오류 메시지 변수:\n",
        "##raise 오류낼 오류 클래스\n",
        "##pass 로 오류 회피\n",
        "\n",
        "\n",
        "\n"
      ],
      "execution_count": null,
      "outputs": []
    },
    {
      "cell_type": "markdown",
      "metadata": {
        "id": "a9Cg0pDiiaDs"
      },
      "source": [
        "**4.내장 함수, 외장 함수**\n"
      ]
    },
    {
      "cell_type": "code",
      "metadata": {
        "id": "A5C5h9BQf9_p"
      },
      "source": [
        "##내장 함수\n",
        "##abs() 절대값, all() 요소들의 값 확인, any(), chr(), dir(), divmod() 몫과 나머지, \n",
        "##enumerate(), eval(), filter()\n",
        "for i, name in enumerate(['body','foo','bar']):\n",
        "  print(i, name)\n",
        "##filter\n",
        "def positive(x):\n",
        "  return x>0\n",
        "print(list(filter(positive,[1,-3,2,0,5,-5])))\n",
        "##labda\n",
        "print(list(filter(lambda x:x >0,[1,-3,2,0,5,-5])))\n",
        "\n",
        "##hex(),id(),input(),int(),isinstance(obj,class or tuple)\n",
        "##len(),list(), map(func,iterable)\n",
        "def two_times(x): return x*2\n",
        "print(list(map(two_times,[1,2,3,4,5])))\n",
        "\n",
        "print(list(map(lambda x:x*2,[1,2,3,4,5])))\n",
        "\n",
        "##max(), min(), oct(), open(), ord(), pow() 제곱한 결과, range(start,stop,step),round()\n",
        "print(list(range(10,21,2)))\n",
        "##sorted(), str(), sum(), tuple(), type(), zip()\n",
        "\n",
        "##외장함수\n",
        "##sys, pickle, os,\n",
        "import os\n",
        "os.environ\n",
        "os.environ['PATH']\n",
        "\n",
        "##shutil 파일복사, glob 디렉토리 파일->리스트, tempfile, time, calendar, random, webbrowser\n",
        "import webbrowser\n",
        "webbrowser.open_new(\"http://google.com\")\n",
        "\n",
        "##Thread \n",
        "import threading\n"
      ],
      "execution_count": null,
      "outputs": []
    },
    {
      "cell_type": "markdown",
      "metadata": {
        "id": "TRLTVIC3if8F"
      },
      "source": [
        "\n",
        "5.정규식"
      ]
    },
    {
      "cell_type": "code",
      "metadata": {
        "id": "7EB66gbeDPRj"
      },
      "source": [
        "import re\n",
        "##문자 클래스[]\n",
        "##\\d : [0-9]\n",
        "##\\D : [^0-9]\n",
        "##\\w : 문자+숫자\n",
        "##\\W : 문자 숫자가 아닌 것\n",
        "\n",
        "##match(), search(), findall(), finditer()\n",
        "\n",
        "##match() -> group(), start(), end(), span()\n",
        "\n",
        "\n"
      ],
      "execution_count": null,
      "outputs": []
    }
  ]
}