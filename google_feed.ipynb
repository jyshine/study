{
  "nbformat": 4,
  "nbformat_minor": 0,
  "metadata": {
    "colab": {
      "name": "google_feed.ipynb",
      "provenance": [],
      "authorship_tag": "ABX9TyMLV3cwhiIMp30yWbzz/x76",
      "include_colab_link": true
    },
    "kernelspec": {
      "name": "python3",
      "display_name": "Python 3"
    },
    "language_info": {
      "name": "python"
    }
  },
  "cells": [
    {
      "cell_type": "markdown",
      "metadata": {
        "id": "view-in-github",
        "colab_type": "text"
      },
      "source": [
        "<a href=\"https://colab.research.google.com/github/jyshine/study/blob/main/google_feed.ipynb\" target=\"_parent\"><img src=\"https://colab.research.google.com/assets/colab-badge.svg\" alt=\"Open In Colab\"/></a>"
      ]
    },
    {
      "cell_type": "code",
      "metadata": {
        "colab": {
          "base_uri": "https://localhost:8080/"
        },
        "id": "ayfxm0PfvRt7",
        "outputId": "ccbf0ee5-7b93-4def-8d2f-4d14d8dd9f02"
      },
      "source": [
        "pip install feedparser"
      ],
      "execution_count": 2,
      "outputs": [
        {
          "output_type": "stream",
          "text": [
            "Collecting feedparser\n",
            "\u001b[?25l  Downloading https://files.pythonhosted.org/packages/1c/21/faf1bac028662cc8adb2b5ef7a6f3999a765baa2835331df365289b0ca56/feedparser-6.0.2-py3-none-any.whl (80kB)\n",
            "\r\u001b[K     |████                            | 10kB 16.5MB/s eta 0:00:01\r\u001b[K     |████████                        | 20kB 10.6MB/s eta 0:00:01\r\u001b[K     |████████████▏                   | 30kB 8.4MB/s eta 0:00:01\r\u001b[K     |████████████████▏               | 40kB 7.3MB/s eta 0:00:01\r\u001b[K     |████████████████████▎           | 51kB 6.9MB/s eta 0:00:01\r\u001b[K     |████████████████████████▎       | 61kB 7.2MB/s eta 0:00:01\r\u001b[K     |████████████████████████████▍   | 71kB 7.8MB/s eta 0:00:01\r\u001b[K     |████████████████████████████████| 81kB 5.1MB/s \n",
            "\u001b[?25hCollecting sgmllib3k\n",
            "  Downloading https://files.pythonhosted.org/packages/9e/bd/3704a8c3e0942d711c1299ebf7b9091930adae6675d7c8f476a7ce48653c/sgmllib3k-1.0.0.tar.gz\n",
            "Building wheels for collected packages: sgmllib3k\n",
            "  Building wheel for sgmllib3k (setup.py) ... \u001b[?25l\u001b[?25hdone\n",
            "  Created wheel for sgmllib3k: filename=sgmllib3k-1.0.0-cp37-none-any.whl size=6067 sha256=f7c26a0d21bdc127d5c12dca1a3a573d28098e9f3322152d619fbf0452adc888\n",
            "  Stored in directory: /root/.cache/pip/wheels/f1/80/5a/444ba08a550cdd241bd9baf8bae44be750efe370adb944506a\n",
            "Successfully built sgmllib3k\n",
            "Installing collected packages: sgmllib3k, feedparser\n",
            "Successfully installed feedparser-6.0.2 sgmllib3k-1.0.0\n"
          ],
          "name": "stdout"
        }
      ]
    },
    {
      "cell_type": "code",
      "metadata": {
        "id": "ztGdl3UkvDo3"
      },
      "source": [
        "\n",
        "\n",
        "import feedparser\n",
        "import pandas as pd\n",
        "import datetime\n",
        "\n",
        "\n",
        "# rss url을 전달 받아 파싱해준다\n",
        "def parseRSS(rss_url):\n",
        "    return feedparser.parse(rss_url)\n",
        "\n",
        "# 파싱된 rss 데이터 가공\n",
        "# index / 구분 (구글) / 검색어 / 내용 / 검색 횟수 / 링크\n",
        "def getTrendsInfo(rss_url, rss_key) :\n",
        "    file_name = datetime.datetime.now().strftime('%Y%m%d%H%M%S')\n",
        "\n",
        "    keywords = []\n",
        "    traffic = []\n",
        "    itemtitle = []\n",
        "    itemlink = []\n",
        "\n",
        "    feed = parseRSS(rss_url)\n",
        "    for trends_item in feed['entries']:\n",
        "        keywords.append(trends_item['title'])\n",
        "        traffic.append(trends_item['ht_approx_traffic'])\n",
        "        itemtitle.append(trends_item['ht_news_item_title'])\n",
        "        itemlink.append(trends_item['ht_news_item_url'])\n",
        "\n",
        "    trend_keywords = pd.Series(keywords)\n",
        "    trend_traffic = pd.Series(traffic)\n",
        "    trend_title = pd.Series(itemtitle)\n",
        "    trend_link = pd.Series(itemlink)\n",
        "\n",
        "    trend_pd = pd.DataFrame({'index': 'google', '검색어': trend_keywords, '내용': trend_title, '검색 수': trend_traffic,\n",
        "                             '링크': trend_link})\n",
        "    trend_pd.to_csv(file_name + '_' + rss_key + '.csv', encoding=\"utf-8\")\n",
        "\n",
        "\n",
        "url_list = {\n",
        "    'KR':'https://trends.google.com/trends/trendingsearches/daily/rss?geo=KR',\n",
        "    'US':'https://trends.google.com/trends/trendingsearches/daily/rss?geo=US',\n",
        "    'GB':'https://trends.google.com/trends/trendingsearches/daily/rss?geo=GB'\n",
        "}\n",
        "\n",
        "for key, url in url_list.items():\n",
        "    getTrendsInfo(url, key)"
      ],
      "execution_count": 3,
      "outputs": []
    },
    {
      "cell_type": "code",
      "metadata": {
        "colab": {
          "base_uri": "https://localhost:8080/"
        },
        "id": "nQzEh-FxwHEG",
        "outputId": "bcc8b41f-0c55-483e-b3fa-b93a9014a5ad"
      },
      "source": [
        "import csv \n",
        "\n",
        "file_name = '20210413005913_KR.csv'\n",
        "\n",
        "def read_csv_file(file_name):\n",
        "  with open(file_name, 'r', encoding='utf-8') as f:\n",
        "    csv_data=csv.reader(f)\n",
        "    #확인하기 \n",
        "    for line in csv_data: \n",
        "      print(line)\n",
        "\n",
        "read_csv_file(file_name)\n",
        "\n"
      ],
      "execution_count": 24,
      "outputs": [
        {
          "output_type": "stream",
          "text": [
            "['', 'index', '검색어', '내용', '검색 수', '링크']\n",
            "['0', 'google', '이철희', '이철희 靑정무수석 사실상 내정… 김외숙 인사수석도 교체 가능성', '2,000+', 'https://www.donga.com/news/Politics/article/all/20210413/106376481/1']\n",
            "['1', 'google', '김승미', '김승미 &quot;  유노 편도암으로 사망, 다음 생에도 함께&quot; 눈물 (&#39;같이&#39;) [종합 ...', '2,000+', 'https://tenasia.hankyung.com/tv/article/2021041359514']\n",
            "['2', 'google', '김남국', '이준석, 에펨코리아 찾아간 김남국에 &quot;길가는 20대 남성과 대화해라&quot;', '2,000+', 'https://news.imaeil.com/PoliticsAll/2021041309162299348']\n",
            "['3', 'google', '리얼돌', '“리얼돌 체험관 500m내 초·중·고 6개나…”용인시 청원', '2,000+', 'http://news.kmib.co.kr/article/view.asp?arcid=0015734405&code=61121111&cp=nv']\n",
            "['4', 'google', '토트넘 맨유', '[EPL현장라인업]&#39;손흥민 선발&#39; 토트넘, 맨유전 선발 명단 발표', '20,000+', 'https://www.chosun.com/sports/sports_photo/2021/04/11/QKAWE3PPHNDK3BD2WZ4KZIWZSA/']\n",
            "['5', 'google', '학교폭력실태조사', '충남교육청, 학교폭력 전수조사… 성실참여 당부', '20,000+', 'http://www.jbnews.com/news/articleView.html?idxno=1334897']\n",
            "['6', 'google', '오늘날씨', '[오늘날씨] 오후부터 빗방울 그쳐...남해안 &#39;강풍 주의&#39;', '10,000+', 'https://www.econovill.com/news/articleView.html?idxno=527503']\n",
            "['7', 'google', '노바백스 백신', '노바백스 물량 9월까지 절반만 도입… 11월 집단면역 목표 가물가물', '10,000+', 'https://www.donga.com/news/Society/article/all/20210413/106376440/1']\n",
            "['8', 'google', '윤여정', '윤여정 “오스카 참석하려는데… 아들이 증오범죄 때문에 걱정”', '5,000+', 'https://www.chosun.com/international/2021/04/13/CI7T7TZXHBD33KL7DGR4U4GUDM/']\n",
            "['9', 'google', '연우', '연우, 직접 촬영하고 편집까지..유튜브 &#39;연우로그&#39; 14일 첫 공개 &quot;기대 ...', '2,000+', 'https://www.chosun.com/entertainments/entertain_photo/2021/04/13/75CH67TAT6KK4EUM7KIDXEOE6U/']\n",
            "['10', 'google', '대원미디어', '[마감종합기사] 정세균 관련주 시동 걸어... 자가검사키트 이슈 속 유유 ...', '2,000+', 'http://www.ggilbo.com/news/articleView.html?idxno=840456']\n",
            "['11', 'google', '서울마라톤', '2021 서울마라톤 접수 마감', '2,000+', 'https://sports.donga.com/sports/article/all/20210412/106366611/1']\n",
            "['12', 'google', '청와대 국민청원', '&quot;김어준 TBS서 퇴출하라&quot; 靑 국민청원 20만명 이상 동의', '2,000+', 'https://biz.chosun.com/site/data/html_dir/2021/04/13/2021041300412.html']\n",
            "['13', 'google', '서예지', '&#39;전 연인 김정현 조종설&#39; 서예지 SNS 게시물 모두 삭제? 본인 계정 아냐', '200,000+', 'https://www.news1.kr/articles/?4272250']\n",
            "['14', 'google', '메이플', '넥슨 “메이플 &#39;큐브&#39;, 슬롯머신과 달라” 유저들과 이견', '20,000+', 'http://www.ekoreanews.co.kr/news/articleView.html?idxno=49927']\n",
            "['15', 'google', '한국사능력검정시험', '52회 한국사능력검정시험 시간 및 시험 직후 에듀윌 한국사 가답안 ...', '10,000+', 'https://news.joins.com/article/24032284']\n",
            "['16', 'google', '리플', '미 법원 &quot;SEC, 리플 대표 등 개인 계좌 제출 요청 기각&quot; | 블록미디어', '10,000+', 'https://www.blockmedia.co.kr/archives/174804']\n",
            "['17', 'google', '남양주 화재', '남양주 화재 10시간만에 진압…오늘 합동감식', '2,000+', 'https://imnews.imbc.com/replay/2021/nwtoday/article/6146455_34943.html']\n",
            "['18', 'google', 'UFC', 'UFC 미들급 베토리, 거침 없이 5연승…홀랜드에 판정승', '2,000+', 'https://www.nocutnews.co.kr/news/5533281']\n",
            "['19', 'google', '엘클라시코', '호날두 레알서 떠난 뒤 &#39;엘클라시코 무득점&#39;…메시,&#39;최고&#39;는 &#39;최고&#39;가 ...', '2,000+', 'http://news.khan.co.kr/kh_news/khan_art_view.html?art_id=202104112131055']\n"
          ],
          "name": "stdout"
        }
      ]
    }
  ]
}